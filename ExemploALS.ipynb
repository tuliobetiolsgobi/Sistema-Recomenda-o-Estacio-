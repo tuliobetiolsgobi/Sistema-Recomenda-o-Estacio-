{
 "cells": [
  {
   "cell_type": "markdown",
   "metadata": {
    "colab_type": "text",
    "id": "FVpx2BEIkTLF"
   },
   "source": [
    "## Ao longo da execucao, documente o codigo com comentarios, referentes ao seu entendimento. Utilize tambem a estrutura de markdown do Jupyter para colocar informacoes textuais relevantes."
   ]
  },
  {
   "cell_type": "code",
   "execution_count": 1,
   "metadata": {},
   "outputs": [],
   "source": [
    "#import findspark\n",
    "#findspark.init()\n",
    "#findspark.find()"
   ]
  },
  {
   "cell_type": "code",
   "execution_count": 2,
   "metadata": {
    "colab": {},
    "colab_type": "code",
    "id": "eAoKVS7GkTLF"
   },
   "outputs": [],
   "source": [
    "from __future__ import print_function\n",
    "\n",
    "import sys\n",
    "if sys.version >= '3':\n",
    "    long = int\n",
    "\n",
    "from pyspark.sql import SparkSession\n",
    "\n",
    "from pyspark.ml.evaluation import RegressionEvaluator\n",
    "from pyspark.ml.recommendation import ALS\n",
    "from pyspark.sql import Row"
   ]
  },
  {
   "cell_type": "code",
   "execution_count": 3,
   "metadata": {
    "colab": {},
    "colab_type": "code",
    "id": "aYs5Wi6dkTLI"
   },
   "outputs": [],
   "source": [
    "def g(x):\n",
    "    print(x)"
   ]
  },
  {
   "cell_type": "code",
   "execution_count": 4,
   "metadata": {
    "colab": {},
    "colab_type": "code",
    "id": "fEBRZB-ekTLL"
   },
   "outputs": [],
   "source": [
    "working_directory = 'jars/*'\n",
    "\n",
    "spark = SparkSession\\\n",
    "        .builder\\\n",
    "        .appName(\"ALSExample\")\\\n",
    "        .config(\"spark.mongodb.input.uri\", \"mongodb://localhost:27017/puc.recomendacoes\") \\\n",
    "        .config(\"spark.mongodb.output.uri\", \"mongodb://localhost:27017/puc.recomendacoes\") \\\n",
    "        .config('spark.jars.packages',\"org.mongodb.spark:mongo-spark-connector_2.10:2.2.1\")\\\n",
    "        .getOrCreate()"
   ]
  },
  {
   "cell_type": "code",
   "execution_count": 5,
   "metadata": {
    "colab": {},
    "colab_type": "code",
    "id": "kp_1wXm-kTLN"
   },
   "outputs": [],
   "source": [
    "lines = spark.read.text(\"sample_movielens_ratings.txt\").rdd\n",
    "parts = lines.map(lambda row: row.value.split(\"::\"))\n",
    "ratingsRDD = parts.map(lambda p: Row(userId=int(p[0]), movieId=int(p[1]),\n",
    "                                     rating=float(p[2]), timestamp=long(p[3])))\n",
    "ratings = spark.createDataFrame(ratingsRDD.collect())"
   ]
  },
  {
   "cell_type": "code",
   "execution_count": 6,
   "metadata": {
    "colab": {},
    "colab_type": "code",
    "id": "B30cITY0kTLP",
    "outputId": "b3a7bc53-76a9-4b0e-bbe8-1a2412f6a3b1"
   },
   "outputs": [
    {
     "name": "stdout",
     "output_type": "stream",
     "text": [
      "+-------+------+----------+------+\n",
      "|movieId|rating| timestamp|userId|\n",
      "+-------+------+----------+------+\n",
      "|      2|   3.0|1424380312|     0|\n",
      "|      3|   1.0|1424380312|     0|\n",
      "|      5|   2.0|1424380312|     0|\n",
      "|      9|   4.0|1424380312|     0|\n",
      "|     11|   1.0|1424380312|     0|\n",
      "|     12|   2.0|1424380312|     0|\n",
      "|     15|   1.0|1424380312|     0|\n",
      "|     17|   1.0|1424380312|     0|\n",
      "|     19|   1.0|1424380312|     0|\n",
      "|     21|   1.0|1424380312|     0|\n",
      "|     23|   1.0|1424380312|     0|\n",
      "|     26|   3.0|1424380312|     0|\n",
      "|     27|   1.0|1424380312|     0|\n",
      "|     28|   1.0|1424380312|     0|\n",
      "|     29|   1.0|1424380312|     0|\n",
      "|     30|   1.0|1424380312|     0|\n",
      "|     31|   1.0|1424380312|     0|\n",
      "|     34|   1.0|1424380312|     0|\n",
      "|     37|   1.0|1424380312|     0|\n",
      "|     41|   2.0|1424380312|     0|\n",
      "+-------+------+----------+------+\n",
      "only showing top 20 rows\n",
      "\n"
     ]
    }
   ],
   "source": [
    "ratings.show()"
   ]
  },
  {
   "cell_type": "code",
   "execution_count": 7,
   "metadata": {
    "colab": {},
    "colab_type": "code",
    "id": "I2FXKxYqkTLT"
   },
   "outputs": [],
   "source": [
    "(training, test) = ratings.randomSplit([0.8, 0.2])"
   ]
  },
  {
   "cell_type": "code",
   "execution_count": 8,
   "metadata": {
    "colab": {},
    "colab_type": "code",
    "id": "lYqspBFnkTLV"
   },
   "outputs": [],
   "source": [
    "als = ALS(maxIter=5, regParam=0.01, userCol=\"userId\", itemCol=\"movieId\", ratingCol=\"rating\",\n",
    "              coldStartStrategy=\"drop\")\n",
    "model = als.fit(training)"
   ]
  },
  {
   "cell_type": "code",
   "execution_count": 9,
   "metadata": {
    "colab": {},
    "colab_type": "code",
    "id": "R0G9gdIpkTLY",
    "outputId": "e4422ebf-ae5f-4f2d-d07c-3179c0679067"
   },
   "outputs": [
    {
     "name": "stdout",
     "output_type": "stream",
     "text": [
      "Root-mean-square error = 1.9371639053055516\n"
     ]
    }
   ],
   "source": [
    "predictions = model.transform(test)\n",
    "evaluator = RegressionEvaluator(metricName=\"rmse\", labelCol=\"rating\",\n",
    "                                    predictionCol=\"prediction\")\n",
    "rmse = evaluator.evaluate(predictions)\n",
    "print(\"Root-mean-square error = \" + str(rmse))"
   ]
  },
  {
   "cell_type": "code",
   "execution_count": 10,
   "metadata": {
    "colab": {},
    "colab_type": "code",
    "id": "CK6901ewkTLd"
   },
   "outputs": [],
   "source": [
    "userRecs = model.recommendForAllUsers(10)"
   ]
  },
  {
   "cell_type": "code",
   "execution_count": 11,
   "metadata": {
    "colab": {},
    "colab_type": "code",
    "id": "wCTs9ZxvkTLg",
    "outputId": "7bb025fe-f39d-464a-bf42-87372a5c4c4d"
   },
   "outputs": [
    {
     "name": "stdout",
     "output_type": "stream",
     "text": [
      "+------+----------------------------------------------------------------------------------------------------------------------------------------------------------------+\n",
      "|userId|recommendations                                                                                                                                                 |\n",
      "+------+----------------------------------------------------------------------------------------------------------------------------------------------------------------+\n",
      "|28    |[[55,6.844818], [9,6.5482607], [81,5.0254517], [12,4.6324606], [25,4.4356174], [2,4.3153267], [89,4.168298], [10,4.063764], [82,3.8914099], [67,3.2872562]]     |\n",
      "|26    |[[7,5.067373], [94,4.9493423], [23,4.9435363], [24,4.866168], [22,4.837936], [37,4.68697], [36,4.195289], [68,4.077548], [54,4.052327], [73,3.9752367]]         |\n",
      "|27    |[[46,7.7903476], [35,4.3797665], [50,4.337532], [18,4.12665], [43,3.4592], [49,3.1166081], [63,3.063826], [27,3.0246928], [83,2.9949412], [51,2.948979]]        |\n",
      "|12    |[[46,6.5332007], [17,5.0006337], [35,4.411168], [16,4.0140224], [49,3.8454916], [94,3.765085], [31,3.7625587], [50,3.7320156], [23,3.3441916], [40,3.1829364]]  |\n",
      "|22    |[[75,5.1695166], [88,5.1438923], [74,4.812623], [30,4.37838], [32,4.244158], [51,4.117215], [94,4.0249457], [69,4.005694], [68,3.9593291], [52,3.830359]]       |\n",
      "|1     |[[62,3.9000323], [68,3.8142025], [69,3.0881748], [28,3.0711036], [24,3.0183444], [29,2.9964416], [98,2.8945382], [25,2.8076015], [90,2.7616613], [85,2.6581888]]|\n",
      "|13    |[[94,4.0295415], [75,3.8614125], [93,3.7037706], [7,3.5309372], [8,3.427707], [53,3.3637319], [46,3.2069263], [74,2.9560804], [29,2.9471135], [18,2.8019753]]   |\n",
      "|6     |[[25,4.661627], [43,3.823682], [58,3.55258], [63,3.4249833], [51,3.353067], [19,3.25952], [85,3.002149], [2,2.967277], [32,2.8198419], [67,2.65283]]            |\n",
      "|16    |[[90,5.2954845], [54,4.8312435], [85,4.8308845], [40,4.395445], [51,4.2200274], [37,3.345446], [47,3.0883343], [96,3.0767782], [43,3.0741742], [94,3.0451097]]  |\n",
      "|3     |[[75,5.3890386], [32,4.628496], [51,4.3246136], [18,4.142016], [80,3.9381986], [88,3.882439], [30,3.8030782], [27,3.2437139], [69,3.1929734], [77,3.0698576]]   |\n",
      "+------+----------------------------------------------------------------------------------------------------------------------------------------------------------------+\n",
      "only showing top 10 rows\n",
      "\n"
     ]
    }
   ],
   "source": [
    "userRecs.show(10, False)"
   ]
  },
  {
   "cell_type": "code",
   "execution_count": 12,
   "metadata": {
    "colab": {},
    "colab_type": "code",
    "id": "2X8U3KVlkTLj"
   },
   "outputs": [],
   "source": [
    "movieRecs = model.recommendForAllItems(10)"
   ]
  },
  {
   "cell_type": "code",
   "execution_count": 13,
   "metadata": {
    "colab": {},
    "colab_type": "code",
    "id": "yLRB8PGWkTLl",
    "outputId": "15dd0b0f-f5f0-4e19-dc2e-e1ec378c5c12"
   },
   "outputs": [
    {
     "name": "stdout",
     "output_type": "stream",
     "text": [
      "+-------+--------------------+\n",
      "|movieId|     recommendations|\n",
      "+-------+--------------------+\n",
      "|     31|[[12,3.7625587], ...|\n",
      "|     85|[[24,5.910432], [...|\n",
      "|     65|[[23,4.916393], [...|\n",
      "|     53|[[8,4.918167], [2...|\n",
      "|     78|[[26,1.6316882], ...|\n",
      "|     34|[[25,3.0684948], ...|\n",
      "|     81|[[28,5.0254517], ...|\n",
      "|     28|[[25,5.014336], [...|\n",
      "|     76|[[14,4.8506417], ...|\n",
      "|     26|[[17,3.4877255], ...|\n",
      "|     27|[[23,5.074297], [...|\n",
      "|     44|[[27,2.798295], [...|\n",
      "|     12|[[28,4.6324606], ...|\n",
      "|     91|[[28,3.166791], [...|\n",
      "|     22|[[26,4.837936], [...|\n",
      "|     93|[[2,5.1972723], [...|\n",
      "|     47|[[10,6.103862], [...|\n",
      "|      1|[[21,1.2190033], ...|\n",
      "|     52|[[4,4.000535], [2...|\n",
      "|     13|[[11,4.2402472], ...|\n",
      "+-------+--------------------+\n",
      "only showing top 20 rows\n",
      "\n"
     ]
    }
   ],
   "source": [
    "movieRecs.show()"
   ]
  },
  {
   "cell_type": "code",
   "execution_count": 14,
   "metadata": {
    "colab": {},
    "colab_type": "code",
    "id": "Wd3s2x5ykTLo"
   },
   "outputs": [],
   "source": [
    "users = ratings.select(als.getUserCol()).distinct()"
   ]
  },
  {
   "cell_type": "code",
   "execution_count": 15,
   "metadata": {
    "colab": {},
    "colab_type": "code",
    "id": "SKLGzVCKkTLq",
    "outputId": "b2033d98-df25-4270-c7f8-b9ba8369d621"
   },
   "outputs": [
    {
     "name": "stdout",
     "output_type": "stream",
     "text": [
      "+------+\n",
      "|userId|\n",
      "+------+\n",
      "|    26|\n",
      "|    29|\n",
      "|    19|\n",
      "|     0|\n",
      "|    22|\n",
      "|     7|\n",
      "|    25|\n",
      "|     6|\n",
      "|     9|\n",
      "|    27|\n",
      "|    17|\n",
      "|    28|\n",
      "|     5|\n",
      "|     1|\n",
      "|    10|\n",
      "|     3|\n",
      "|    12|\n",
      "|     8|\n",
      "|    11|\n",
      "|     2|\n",
      "+------+\n",
      "only showing top 20 rows\n",
      "\n"
     ]
    }
   ],
   "source": [
    "users.show()"
   ]
  },
  {
   "cell_type": "code",
   "execution_count": 17,
   "metadata": {
    "colab": {},
    "colab_type": "code",
    "id": "venIWxWckTLv"
   },
   "outputs": [],
   "source": [
    "#users = ratings.select(als.getUserCol()).distinct().limit(3)\n",
    "#userSubsetRecs = model.recommendForUserSubset(users, 10)"
   ]
  },
  {
   "cell_type": "code",
   "execution_count": 18,
   "metadata": {
    "colab": {},
    "colab_type": "code",
    "id": "MSAscSckkTLy",
    "outputId": "83eec3ac-595e-42ba-bb6c-f0f7d62003da"
   },
   "outputs": [],
   "source": [
    "#userSubsetRecs.select(userSubsetRecs['recommendations']).show()"
   ]
  },
  {
   "cell_type": "code",
   "execution_count": 20,
   "metadata": {
    "colab": {},
    "colab_type": "code",
    "id": "6upwVXV2kTL2"
   },
   "outputs": [],
   "source": [
    "#movies = ratings.select(als.getItemCol()).distinct().limit(3)\n",
    "#movieSubSetRecs = model.recommendForItemSubset(movies, 2)"
   ]
  },
  {
   "cell_type": "code",
   "execution_count": 21,
   "metadata": {
    "colab": {},
    "colab_type": "code",
    "id": "rLaVmrvpkTL5",
    "outputId": "9a302c13-080a-49f0-c52a-f27243a77a55"
   },
   "outputs": [],
   "source": [
    "#movieSubSetRecs.show(1, False)"
   ]
  },
  {
   "cell_type": "code",
   "execution_count": 22,
   "metadata": {
    "colab": {},
    "colab_type": "code",
    "id": "XdApRan_kTL-"
   },
   "outputs": [],
   "source": [
    "userRecsOnlyItemId = userRecs.select(userRecs['userId'], userRecs['recommendations']['movieId'])"
   ]
  },
  {
   "cell_type": "code",
   "execution_count": 23,
   "metadata": {
    "colab": {},
    "colab_type": "code",
    "id": "Hya5S3kekTMB",
    "outputId": "8dd21ba2-238f-4582-81f3-919519f998c9"
   },
   "outputs": [
    {
     "name": "stdout",
     "output_type": "stream",
     "text": [
      "+------+----------------------------------------+\n",
      "|userId|recommendations.movieId                 |\n",
      "+------+----------------------------------------+\n",
      "|28    |[55, 9, 81, 12, 25, 2, 89, 10, 82, 67]  |\n",
      "|26    |[7, 94, 23, 24, 22, 37, 36, 68, 54, 73] |\n",
      "|27    |[46, 35, 50, 18, 43, 49, 63, 27, 83, 51]|\n",
      "|12    |[46, 17, 35, 16, 49, 94, 31, 50, 23, 40]|\n",
      "|22    |[75, 88, 74, 30, 32, 51, 94, 69, 68, 52]|\n",
      "|1     |[62, 68, 69, 28, 24, 29, 98, 25, 90, 85]|\n",
      "|13    |[94, 75, 93, 7, 8, 53, 46, 74, 29, 18]  |\n",
      "|6     |[25, 43, 58, 63, 51, 19, 85, 2, 32, 67] |\n",
      "|16    |[90, 54, 85, 40, 51, 37, 47, 96, 43, 94]|\n",
      "|3     |[75, 32, 51, 18, 80, 88, 30, 27, 69, 77]|\n",
      "+------+----------------------------------------+\n",
      "only showing top 10 rows\n",
      "\n"
     ]
    }
   ],
   "source": [
    "userRecsOnlyItemId.show(10, False)"
   ]
  },
  {
   "cell_type": "code",
   "execution_count": 25,
   "metadata": {},
   "outputs": [],
   "source": [
    "userRecs.select(userRecs[\"userId\"], \\\n",
    "                userRecs[\"recommendations\"][\"movieId\"].alias(\"movieId\"),\\\n",
    "userRecs[\"recommendations\"][\"rating\"].cast('array<double>').alias(\"rating\")).\\\n",
    "    write.format(\"com.mongodb.spark.sql.DefaultSource\").mode(\"append\").save()"
   ]
  },
  {
   "cell_type": "markdown",
   "metadata": {
    "colab_type": "text",
    "id": "IyBYPjjRkTME"
   },
   "source": [
    "## Agora faça 50 recomendacoes para todos os usuarios"
   ]
  },
  {
   "cell_type": "code",
   "execution_count": null,
   "metadata": {
    "colab": {},
    "colab_type": "code",
    "id": "FxLJxmkOkTMF"
   },
   "outputs": [],
   "source": []
  },
  {
   "cell_type": "code",
   "execution_count": null,
   "metadata": {
    "colab": {},
    "colab_type": "code",
    "id": "HCyunpBSkTMJ"
   },
   "outputs": [],
   "source": []
  },
  {
   "cell_type": "markdown",
   "metadata": {
    "colab_type": "text",
    "id": "wBBO4iwYkTML"
   },
   "source": [
    "## Recomende 50 usuarios para os itens"
   ]
  },
  {
   "cell_type": "code",
   "execution_count": null,
   "metadata": {
    "colab": {},
    "colab_type": "code",
    "id": "fhpJRWfNkTML"
   },
   "outputs": [],
   "source": []
  },
  {
   "cell_type": "code",
   "execution_count": null,
   "metadata": {
    "colab": {},
    "colab_type": "code",
    "id": "PVGBsgqWkTMN"
   },
   "outputs": [],
   "source": []
  },
  {
   "cell_type": "markdown",
   "metadata": {
    "colab_type": "text",
    "id": "LW23FVgOkTMP"
   },
   "source": [
    "## Como poderiamos armazenar as recomendacoes no MongoDB?"
   ]
  },
  {
   "cell_type": "code",
   "execution_count": null,
   "metadata": {
    "colab": {},
    "colab_type": "code",
    "id": "Sog1q4yrkTMP"
   },
   "outputs": [],
   "source": []
  },
  {
   "cell_type": "markdown",
   "metadata": {
    "colab_type": "text",
    "id": "iruOuVE4kTMR"
   },
   "source": [
    "## Como podemos fazer isso em Python?"
   ]
  },
  {
   "cell_type": "code",
   "execution_count": null,
   "metadata": {
    "colab": {},
    "colab_type": "code",
    "id": "nPKAICGWkTMS"
   },
   "outputs": [],
   "source": []
  },
  {
   "cell_type": "markdown",
   "metadata": {
    "colab_type": "text",
    "id": "zaNmQtRlkTMU"
   },
   "source": [
    "## Podemos utilizar outros datasets de teste, em especifico do proprio MovieLenz? Pesquise sobre esses datasets e sua estrutura basica."
   ]
  },
  {
   "cell_type": "code",
   "execution_count": null,
   "metadata": {
    "colab": {},
    "colab_type": "code",
    "id": "GKqfxqpJkTMV"
   },
   "outputs": [],
   "source": []
  },
  {
   "cell_type": "markdown",
   "metadata": {
    "colab_type": "text",
    "id": "QeARAS4WkTMW"
   },
   "source": [
    "## Amazene os dados no MongoDB, criem consultas para obter as recomendações para os usuários de ID 6 e 20."
   ]
  },
  {
   "cell_type": "code",
   "execution_count": null,
   "metadata": {
    "colab": {},
    "colab_type": "code",
    "id": "5wihW2KWkTMX"
   },
   "outputs": [],
   "source": []
  }
 ],
 "metadata": {
  "colab": {
   "name": "ExemploALS.ipynb",
   "provenance": [],
   "version": "0.3.2"
  },
  "kernelspec": {
   "display_name": "Python 3",
   "language": "python",
   "name": "python3"
  },
  "language_info": {
   "codemirror_mode": {
    "name": "ipython",
    "version": 3
   },
   "file_extension": ".py",
   "mimetype": "text/x-python",
   "name": "python",
   "nbconvert_exporter": "python",
   "pygments_lexer": "ipython3",
   "version": "3.6.13"
  }
 },
 "nbformat": 4,
 "nbformat_minor": 1
}
